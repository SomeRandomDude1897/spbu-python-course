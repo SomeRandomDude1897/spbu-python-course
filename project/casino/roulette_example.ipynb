{
 "cells": [
  {
   "cell_type": "code",
   "execution_count": 4,
   "id": "e101b916-c375-40cc-9b97-310ff7140b0a",
   "metadata": {},
   "outputs": [
    {
     "name": "stdout",
     "output_type": "stream",
     "text": [
      "{'numbers': [13, 14, 15, 16, 17, 18, 19, 20, 21, 22, 23, 24], 'bet': 1}\n"
     ]
    },
    {
     "ename": "KeyError",
     "evalue": "<BetParams.NUMBERS: 'numbers'>",
     "output_type": "error",
     "traceback": [
      "\u001b[0;31m---------------------------------------------------------------------------\u001b[0m",
      "\u001b[0;31mKeyError\u001b[0m                                  Traceback (most recent call last)",
      "Cell \u001b[0;32mIn[4], line 18\u001b[0m\n\u001b[1;32m      6\u001b[0m game \u001b[38;5;241m=\u001b[39m Game(\n\u001b[1;32m      7\u001b[0m     [\n\u001b[1;32m      8\u001b[0m         CautiousPlayer(\u001b[38;5;241m100\u001b[39m),\n\u001b[0;32m   (...)\u001b[0m\n\u001b[1;32m     15\u001b[0m     GoodCasino(),\n\u001b[1;32m     16\u001b[0m )\n\u001b[1;32m     17\u001b[0m \u001b[38;5;28;01mfor\u001b[39;00m i \u001b[38;5;129;01min\u001b[39;00m \u001b[38;5;28mrange\u001b[39m(\u001b[38;5;241m100\u001b[39m):\n\u001b[0;32m---> 18\u001b[0m     \u001b[43mgame\u001b[49m\u001b[38;5;241;43m.\u001b[39;49m\u001b[43mmake_round\u001b[49m\u001b[43m(\u001b[49m\u001b[43m)\u001b[49m\n\u001b[1;32m     19\u001b[0m     game_output \u001b[38;5;241m=\u001b[39m game\u001b[38;5;241m.\u001b[39mget_round_data(i)\n\u001b[1;32m     20\u001b[0m     \u001b[38;5;28;01mif\u001b[39;00m game_output:\n",
      "File \u001b[0;32m/media/starrynight/main_pt/projects_linux/spbu-python-course/project/casino/roulette_game.py:73\u001b[0m, in \u001b[0;36mGame.make_round\u001b[0;34m(self)\u001b[0m\n\u001b[1;32m     69\u001b[0m bets: List[Dict[\u001b[38;5;28mstr\u001b[39m, Union[List[\u001b[38;5;28mint\u001b[39m], \u001b[38;5;28mint\u001b[39m]]] \u001b[38;5;241m=\u001b[39m [\n\u001b[1;32m     70\u001b[0m     player\u001b[38;5;241m.\u001b[39mmake_turn(\u001b[38;5;28mself\u001b[39m\u001b[38;5;241m.\u001b[39m_current_round) \u001b[38;5;28;01mfor\u001b[39;00m player \u001b[38;5;129;01min\u001b[39;00m \u001b[38;5;28mself\u001b[39m\u001b[38;5;241m.\u001b[39mplayers\n\u001b[1;32m     71\u001b[0m ]\n\u001b[1;32m     72\u001b[0m spin_result: \u001b[38;5;28mint\u001b[39m \u001b[38;5;241m=\u001b[39m \u001b[38;5;28mself\u001b[39m\u001b[38;5;241m.\u001b[39mroulette\u001b[38;5;241m.\u001b[39mspin()\n\u001b[0;32m---> 73\u001b[0m pays: List[\u001b[38;5;28mint\u001b[39m] \u001b[38;5;241m=\u001b[39m \u001b[38;5;28;43mself\u001b[39;49m\u001b[38;5;241;43m.\u001b[39;49m\u001b[43mcasino\u001b[49m\u001b[38;5;241;43m.\u001b[39;49m\u001b[43mmatch_bets\u001b[49m\u001b[43m(\u001b[49m\u001b[43mbets\u001b[49m\u001b[43m,\u001b[49m\u001b[43m \u001b[49m\u001b[43mspin_result\u001b[49m\u001b[43m)\u001b[49m\n\u001b[1;32m     75\u001b[0m \u001b[38;5;28mself\u001b[39m\u001b[38;5;241m.\u001b[39mround_results\u001b[38;5;241m.\u001b[39mappend(\n\u001b[1;32m     76\u001b[0m     \u001b[38;5;124m\"\u001b[39m\u001b[38;5;124mROUND RESULTS \u001b[39m\u001b[38;5;124m\"\u001b[39m\n\u001b[1;32m     77\u001b[0m     \u001b[38;5;241m+\u001b[39m \u001b[38;5;28mstr\u001b[39m(\u001b[38;5;28mself\u001b[39m\u001b[38;5;241m.\u001b[39m_current_round)\n\u001b[0;32m   (...)\u001b[0m\n\u001b[1;32m     81\u001b[0m     \u001b[38;5;241m+\u001b[39m \u001b[38;5;124m\"\u001b[39m\u001b[38;5;130;01m\\n\u001b[39;00m\u001b[38;5;124m\"\u001b[39m\n\u001b[1;32m     82\u001b[0m )\n\u001b[1;32m     84\u001b[0m \u001b[38;5;28;01mfor\u001b[39;00m i \u001b[38;5;129;01min\u001b[39;00m \u001b[38;5;28mrange\u001b[39m(\u001b[38;5;28mlen\u001b[39m(\u001b[38;5;28mself\u001b[39m\u001b[38;5;241m.\u001b[39mplayers)):\n",
      "File \u001b[0;32m/media/starrynight/main_pt/projects_linux/spbu-python-course/project/casino/casino.py:45\u001b[0m, in \u001b[0;36mCasino.match_bets\u001b[0;34m(self, bets, result)\u001b[0m\n\u001b[1;32m     42\u001b[0m \u001b[38;5;28;01mfor\u001b[39;00m bet \u001b[38;5;129;01min\u001b[39;00m bets:\n\u001b[1;32m     43\u001b[0m     \u001b[38;5;28mprint\u001b[39m(bet)\n\u001b[1;32m     44\u001b[0m     \u001b[38;5;28;01mif\u001b[39;00m (\n\u001b[0;32m---> 45\u001b[0m         \u001b[38;5;28misinstance\u001b[39m(\u001b[43mbet\u001b[49m\u001b[43m[\u001b[49m\u001b[43mBetParams\u001b[49m\u001b[38;5;241;43m.\u001b[39;49m\u001b[43mNUMBERS\u001b[49m\u001b[43m]\u001b[49m, \u001b[38;5;28mlist\u001b[39m)\n\u001b[1;32m     46\u001b[0m         \u001b[38;5;129;01mand\u001b[39;00m \u001b[38;5;28misinstance\u001b[39m(bet[BetParams\u001b[38;5;241m.\u001b[39mBET], \u001b[38;5;28mint\u001b[39m)\n\u001b[1;32m     47\u001b[0m         \u001b[38;5;129;01mand\u001b[39;00m result \u001b[38;5;129;01min\u001b[39;00m bet[BetParams\u001b[38;5;241m.\u001b[39mNUMBERS]\n\u001b[1;32m     48\u001b[0m     ):\n\u001b[1;32m     49\u001b[0m         modified_bet: \u001b[38;5;28mint\u001b[39m \u001b[38;5;241m=\u001b[39m (\n\u001b[1;32m     50\u001b[0m             bet[BetParams\u001b[38;5;241m.\u001b[39mBET] \u001b[38;5;241m*\u001b[39m \u001b[38;5;28mself\u001b[39m\u001b[38;5;241m.\u001b[39mpay_table[\u001b[38;5;28mlen\u001b[39m(bet[BetParams\u001b[38;5;241m.\u001b[39mNUMBERS])]\n\u001b[1;32m     51\u001b[0m         )\n\u001b[1;32m     52\u001b[0m         pays\u001b[38;5;241m.\u001b[39mappend(modified_bet)\n",
      "\u001b[0;31mKeyError\u001b[0m: <BetParams.NUMBERS: 'numbers'>"
     ]
    }
   ],
   "source": [
    "from roulette_game import Game\n",
    "from player import *\n",
    "from roulette import *\n",
    "from casino import *\n",
    "\n",
    "game = Game(\n",
    "    [\n",
    "        CautiousPlayer(100),\n",
    "        CautiousPlayer(100),\n",
    "        CautiousPlayer(100),\n",
    "        RiskyPlayer(100),\n",
    "        RandomPlayer(100),\n",
    "    ],\n",
    "    CheaterRoulette(),\n",
    "    GoodCasino(),\n",
    ")\n",
    "for i in range(100):\n",
    "    game.make_round()\n",
    "    game_output = game.get_round_data(i)\n",
    "    if game_output:\n",
    "        print(game_output)\n",
    "    else:\n",
    "        break"
   ]
  },
  {
   "cell_type": "code",
   "execution_count": null,
   "id": "43b3c18f-f363-4531-8838-ab809083f5d2",
   "metadata": {},
   "outputs": [],
   "source": []
  }
 ],
 "metadata": {
  "kernelspec": {
   "display_name": "Python 3",
   "language": "python",
   "name": "python3"
  },
  "language_info": {
   "codemirror_mode": {
    "name": "ipython",
    "version": 3
   },
   "file_extension": ".py",
   "mimetype": "text/x-python",
   "name": "python",
   "nbconvert_exporter": "python",
   "pygments_lexer": "ipython3",
   "version": "3.12.3"
  }
 },
 "nbformat": 4,
 "nbformat_minor": 5
}
